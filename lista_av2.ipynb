{
 "cells": [
  {
   "cell_type": "markdown",
   "metadata": {},
   "source": [
    "#### Lista de exercícios URI - AV2"
   ]
  },
  {
   "cell_type": "markdown",
   "metadata": {},
   "source": [
    "Array Replacement I - 1172"
   ]
  },
  {
   "cell_type": "code",
   "execution_count": null,
   "metadata": {},
   "outputs": [],
   "source": [
    "array = [1, 2, 3, 4, 5, 6, 7, 8, 9, 10]\n",
    "for x in range(len(array)):\n",
    "    array[x] = int(input())\n",
    "    if array[x] <= 0:\n",
    "        array[x] = 1\n",
    "    print(f\"X[{x}] = {array[x]}\")"
   ]
  },
  {
   "cell_type": "markdown",
   "metadata": {},
   "source": [
    "Array Fill IV - 1179"
   ]
  },
  {
   "cell_type": "code",
   "execution_count": 15,
   "metadata": {},
   "outputs": [
    {
     "name": "stdout",
     "output_type": "stream",
     "text": [
      "par[0] = 4\n",
      "par[1] = -4\n",
      "par[2] = 2\n",
      "par[3] = 8\n",
      "par[4] = 2\n",
      "impar[0] = 1\n",
      "impar[1] = 3\n",
      "impar[2] = 3\n",
      "impar[3] = 5\n",
      "impar[4] = -7\n",
      "par[0] = 54\n",
      "par[1] = 76\n",
      "par[2] = 98\n",
      "impar[0] = 789\n",
      "impar[1] = 23\n"
     ]
    }
   ],
   "source": [
    "par = []\n",
    "impar = []\n",
    "\n",
    "for x in range(15):\n",
    "    num = int(input())\n",
    "    if num % 2 == 0:\n",
    "        par.append(num)\n",
    "    else:\n",
    "        impar.append(num)\n",
    "    if len(par) == 5:\n",
    "        for i in range(5):\n",
    "            print(f\"par[{i}] = {par[i]}\")\n",
    "        par.clear()\n",
    "    if len(impar) == 5:\n",
    "        for i in range(5):\n",
    "            print(f\"impar[{i}] = {impar[i]}\")\n",
    "        impar.clear()\n",
    "\n",
    "for c in range(len(impar)):\n",
    "    print(f\"impar[{c}] = {impar[c]}\")\n",
    "for c in range(len(par)):\n",
    "    print(f\"par[{c}] = {par[c]}\")\n"
   ]
  },
  {
   "cell_type": "markdown",
   "metadata": {},
   "source": [
    "Above the Main Diagonal - 1183"
   ]
  },
  {
   "cell_type": "code",
   "execution_count": 11,
   "metadata": {},
   "outputs": [
    {
     "name": "stdout",
     "output_type": "stream",
     "text": [
      "par[0] = 4\n",
      "par[1] = 5\n",
      "par[2] = 9\n"
     ]
    }
   ],
   "source": [
    "M = [[], [], [], [], [], [], [], [], [], [], [], []]\n",
    "char = str(input()).upper()\n",
    "\n",
    "for x in range(12):\n",
    "    for y in range(12):\n",
    "        M[x].append(float(input()))\n",
    "        \n",
    "sum = 0\n",
    "tot = 0\n",
    "c = 0\n",
    "for a in range(11):\n",
    "    for b in range(1 + c, 12):\n",
    "        sum += M[a][b]\n",
    "        tot += 1\n",
    "    c += 1\n",
    "\n",
    "if char == 'S':\n",
    "    print(f'{sum:.1f}')\n",
    "if char == 'M':\n",
    "    print(f'{(sum/tot):.1f}')\n",
    "\n",
    "\n",
    "\n"
   ]
  },
  {
   "cell_type": "markdown",
   "metadata": {},
   "source": [
    "Above the Secundary Diagonal - 1185"
   ]
  },
  {
   "cell_type": "code",
   "execution_count": 31,
   "metadata": {},
   "outputs": [
    {
     "name": "stdout",
     "output_type": "stream",
     "text": [
      "[[4.0, 5.0], [7.0, 8.0]]\n"
     ]
    }
   ],
   "source": [
    "M = [[], [], [], [], [], [], [], [], [], [], [], []]\n",
    "char = str(input()).upper()\n",
    "\n",
    "for x in range(12):\n",
    "    for y in range(12):\n",
    "        M[x].append(float(input()))\n",
    "\n",
    "sum = 0\n",
    "tot = 0\n",
    "c = 0\n",
    "for a in range(11):\n",
    "    for b in range(0, 11 - c):\n",
    "        sum += M[a][b]\n",
    "        tot += 1\n",
    "    c += 1\n",
    "\n",
    "if char == 'S':\n",
    "    print(f'{sum:.1f}')\n",
    "if char == 'M':\n",
    "    print(f'{(sum/tot):.1f}')\n"
   ]
  },
  {
   "cell_type": "markdown",
   "metadata": {},
   "source": [
    "Top Area - 1187"
   ]
  },
  {
   "cell_type": "code",
   "execution_count": null,
   "metadata": {},
   "outputs": [],
   "source": [
    "M = [[], [], [], [], [], [], [], [], [], [], [], []]\n",
    "char = str(input()).upper()\n",
    "\n",
    "for x in range(12):\n",
    "    for y in range(12):\n",
    "        M[x].append(float(input()))\n",
    "\n",
    "sum = 0\n",
    "tot = 0\n",
    "c = 0\n",
    "for a in range(5):\n",
    "    for b in range(1 + c, 11 - c):\n",
    "        sum += M[a][b]\n",
    "        tot += 1\n",
    "    c += 1\n",
    "\n",
    "if char == 'S':\n",
    "    print(f'{sum:.1f}')\n",
    "if char == 'M':\n",
    "    print(f'{(sum/tot):.1f}')\n"
   ]
  },
  {
   "cell_type": "markdown",
   "metadata": {},
   "source": [
    "Right Area - 1190"
   ]
  },
  {
   "cell_type": "code",
   "execution_count": null,
   "metadata": {},
   "outputs": [],
   "source": [
    "M = [[], [], [], [], [], [], [], [], [], [], [], []]\n",
    "char = str(input()).upper()\n",
    "\n",
    "for x in range(12):\n",
    "    for y in range(12):\n",
    "        M[x].append(float(input()))\n",
    "\n",
    "sum = 0\n",
    "tot = 0\n",
    "c = 0\n",
    "for b in range(11, 6, -1):\n",
    "    for a in range(1 + c, 11 - c):\n",
    "        sum += M[a][b]\n",
    "        tot += 1\n",
    "    c += 1\n",
    "\n",
    "if char == 'S':\n",
    "    print(f'{sum:.1f}')\n",
    "if char == 'M':\n",
    "    print(f'{(sum/tot):.1f}')\n"
   ]
  },
  {
   "cell_type": "markdown",
   "metadata": {},
   "source": [
    "Inside out - 1235"
   ]
  },
  {
   "cell_type": "code",
   "execution_count": 36,
   "metadata": {},
   "outputs": [
    {
     "name": "stdout",
     "output_type": "stream",
     "text": [
      "THIS LINE IS GIBBERISH\n",
      "LEVELKAYAK\n",
      "HAPPY HOLIDAYS\n",
      "MLKJIHGFEDCBAZYXWVUTSRQPON\n",
      "FRENCH HENS TWO DOVES AND A PARTRIDGE \n"
     ]
    }
   ],
   "source": [
    "n = int(input())\n",
    "\n",
    "for a in range(n):\n",
    "    new = \"\"\n",
    "    phrase = str(input()).upper()\n",
    "    \n",
    "    for c in range(round((len(phrase) / 2)) - 1, -1, -1):\n",
    "        new += phrase[c]\n",
    "\n",
    "    for c in range(len(phrase) - 1, round((len(phrase) / 2)) - 1, -1):\n",
    "        new += phrase[c]\n",
    "    \n",
    "    print(new)\n"
   ]
  }
 ],
 "metadata": {
  "interpreter": {
   "hash": "0b4cd1dba37433b1e50c010185bc348f8249c88fc584b8900b63ec6ab96afba5"
  },
  "kernelspec": {
   "display_name": "Python 3.9.0 64-bit",
   "language": "python",
   "name": "python3"
  },
  "language_info": {
   "codemirror_mode": {
    "name": "ipython",
    "version": 3
   },
   "file_extension": ".py",
   "mimetype": "text/x-python",
   "name": "python",
   "nbconvert_exporter": "python",
   "pygments_lexer": "ipython3",
   "version": "3.9.0"
  },
  "orig_nbformat": 4
 },
 "nbformat": 4,
 "nbformat_minor": 2
}
