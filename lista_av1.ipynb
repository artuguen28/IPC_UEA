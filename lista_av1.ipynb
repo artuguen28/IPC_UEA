{
 "cells": [
  {
   "cell_type": "markdown",
   "source": [
    "#### Lista de exercícios URI - AV1"
   ],
   "metadata": {}
  },
  {
   "cell_type": "markdown",
   "source": [
    "Average 3 - 1040"
   ],
   "metadata": {}
  },
  {
   "cell_type": "code",
   "execution_count": 5,
   "source": [
    "n1, n2, n3, n4 = input().split(\" \")\r\n",
    "n1, n2, n3, n4 = float(n1), float(n2), float(n3), float(n4)\r\n",
    "\r\n",
    "avg = (n1*2 + n2*3 + n3*4 + n4) / 10\r\n",
    "\r\n",
    "print(f\"Media: {avg:.1f}\")\r\n",
    "\r\n",
    "if avg < 5.0:\r\n",
    "    print(\"Aluno reprovado.\")\r\n",
    "if avg >= 7.0:\r\n",
    "    print(\"Aluno aprovado.\")\r\n",
    "if 5.0 <= avg <= 6.9:\r\n",
    "    print(\"Aluno em exame.\")\r\n",
    "    n5 = float(input())\r\n",
    "    print(f\"Nota do exame: {n5:.1f}\")\r\n",
    "    new_avg = (n5 + avg) / 2\r\n",
    "    if new_avg >= 5:\r\n",
    "        print(\"Aluno aprovado.\")\r\n",
    "    else:\r\n",
    "        print(\"Aluno reprovado.\")\r\n",
    "    print(f\"Media final: {new_avg:.1f}\")\r\n",
    "\r\n",
    "\r\n"
   ],
   "outputs": [
    {
     "output_type": "stream",
     "name": "stdout",
     "text": [
      "Media: 7.3\n",
      "Aluno aprovado.\n"
     ]
    }
   ],
   "metadata": {}
  },
  {
   "cell_type": "markdown",
   "source": [
    "Coordinates of a Point - 1041"
   ],
   "metadata": {}
  },
  {
   "cell_type": "code",
   "execution_count": 8,
   "source": [
    "x, y = input().split(\" \")\r\n",
    "x, y = float(x), float(y)\r\n",
    "\r\n",
    "if x > 0 and y > 0:\r\n",
    "    print(\"Q1\")\r\n",
    "if x < 0 and y > 0:\r\n",
    "    print(\"Q2\")\r\n",
    "if x < 0 and y < 0:\r\n",
    "    print(\"Q3\")\r\n",
    "if x > 0 and y < 0:\r\n",
    "    print(\"Q4\")\r\n",
    "if x == 0 and y != 0:\r\n",
    "    print(\"Eixo Y\")\r\n",
    "if x != 0 and y == 0:\r\n",
    "    print(\"Eixo X\")\r\n",
    "if x == y == 0:\r\n",
    "    print(\"Origem\")\r\n"
   ],
   "outputs": [
    {
     "output_type": "stream",
     "name": "stdout",
     "text": [
      "Origem\n"
     ]
    }
   ],
   "metadata": {}
  },
  {
   "cell_type": "markdown",
   "source": [],
   "metadata": {}
  }
 ],
 "metadata": {
  "orig_nbformat": 4,
  "language_info": {
   "name": "python",
   "version": "3.9.0",
   "mimetype": "text/x-python",
   "codemirror_mode": {
    "name": "ipython",
    "version": 3
   },
   "pygments_lexer": "ipython3",
   "nbconvert_exporter": "python",
   "file_extension": ".py"
  },
  "kernelspec": {
   "name": "python3",
   "display_name": "Python 3.9.0 64-bit"
  },
  "interpreter": {
   "hash": "0b4cd1dba37433b1e50c010185bc348f8249c88fc584b8900b63ec6ab96afba5"
  }
 },
 "nbformat": 4,
 "nbformat_minor": 2
}