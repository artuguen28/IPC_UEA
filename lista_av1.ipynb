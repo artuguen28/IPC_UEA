{
 "cells": [
  {
   "cell_type": "markdown",
   "source": [
    "#### Lista de exercícios URI - AV1"
   ],
   "metadata": {}
  },
  {
   "cell_type": "markdown",
   "source": [
    "Average 3 - 1040"
   ],
   "metadata": {}
  },
  {
   "cell_type": "code",
   "execution_count": null,
   "source": [
    "n1, n2, n3, n4 = input().split(\" \")\r\n",
    "n1, n2, n3, n4 = float(n1), float(n2), float(n3), float(n4)\r\n",
    "\r\n",
    "avg = (n1*2 + n2*3 + n3*4 + n4) / 10\r\n",
    "\r\n",
    "print(f\"Media: {avg:.1f}\")\r\n",
    "\r\n",
    "if avg < 5.0:\r\n",
    "    print(\"Aluno reprovado.\")\r\n",
    "if avg >= 7.0:\r\n",
    "    print(\"Aluno aprovado.\")\r\n",
    "if 5.0 <= avg <= 6.9:\r\n",
    "    print(\"Aluno em exame.\")\r\n",
    "    n5 = float(input())\r\n",
    "    print(f\"Nota do exame: {n5:.1f}\")\r\n",
    "    new_avg = (n5 + avg) / 2\r\n",
    "    if new_avg >= 5:\r\n",
    "        print(\"Aluno aprovado.\")\r\n",
    "    else:\r\n",
    "        print(\"Aluno reprovado.\")\r\n",
    "    print(f\"Media final: {new_avg:.1f}\")\r\n",
    "\r\n",
    "\r\n"
   ],
   "outputs": [],
   "metadata": {}
  },
  {
   "cell_type": "markdown",
   "source": [
    "Coordinates of a Point - 1041"
   ],
   "metadata": {}
  },
  {
   "cell_type": "code",
   "execution_count": null,
   "source": [
    "x, y = input().split(\" \")\r\n",
    "x, y = float(x), float(y)\r\n",
    "\r\n",
    "if x > 0 and y > 0:\r\n",
    "    print(\"Q1\")\r\n",
    "if x < 0 and y > 0:\r\n",
    "    print(\"Q2\")\r\n",
    "if x < 0 and y < 0:\r\n",
    "    print(\"Q3\")\r\n",
    "if x > 0 and y < 0:\r\n",
    "    print(\"Q4\")\r\n",
    "if x == 0 and y != 0:\r\n",
    "    print(\"Eixo Y\")\r\n",
    "if x != 0 and y == 0:\r\n",
    "    print(\"Eixo X\")\r\n",
    "if x == y == 0:\r\n",
    "    print(\"Origem\")\r\n"
   ],
   "outputs": [],
   "metadata": {}
  },
  {
   "cell_type": "markdown",
   "source": [
    "DDD - 1050"
   ],
   "metadata": {}
  },
  {
   "cell_type": "code",
   "execution_count": null,
   "source": [
    "ddd = int(input())\r\n",
    "\r\n",
    "if ddd == 61:\r\n",
    "    print(\"Brasilia\")\r\n",
    "elif ddd == 71:\r\n",
    "    print(\"Salvador\")\r\n",
    "elif ddd == 11:\r\n",
    "    print(\"Sao Paulo\")\r\n",
    "elif ddd == 21:\r\n",
    "    print(\"Rio de Janeiro\")\r\n",
    "elif ddd == 32:\r\n",
    "    print(\"Juiz de Fora\")\r\n",
    "elif ddd == 19:\r\n",
    "    print(\"Campinas\")\r\n",
    "elif ddd == 27:\r\n",
    "    print(\"Vitoria\")\r\n",
    "elif ddd == 31:\r\n",
    "    print(\"Belo Horizonte\")\r\n",
    "else:\r\n",
    "    print(\"DDD nao cadastrado\")"
   ],
   "outputs": [],
   "metadata": {}
  },
  {
   "cell_type": "markdown",
   "source": [
    "Month - 1052"
   ],
   "metadata": {}
  },
  {
   "cell_type": "code",
   "execution_count": null,
   "source": [
    "n = int(input())\r\n",
    "\r\n",
    "if n == 1:\r\n",
    "    print(\"January\")\r\n",
    "if n == 2:\r\n",
    "    print(\"February\")\r\n",
    "if n == 3:\r\n",
    "    print(\"March\")\r\n",
    "if n == 4:\r\n",
    "    print(\"April\")\r\n",
    "if n == 5:\r\n",
    "    print(\"May\")\r\n",
    "if n == 6:\r\n",
    "    print(\"June\")\r\n",
    "if n == 7:\r\n",
    "    print(\"July\")\r\n",
    "if n == 8:\r\n",
    "    print(\"August\")\r\n",
    "if n == 9:\r\n",
    "    print(\"September\")\r\n",
    "if n == 10:\r\n",
    "    print(\"October\")\r\n",
    "if n == 11:\r\n",
    "    print(\"November\")\r\n",
    "if n == 12:\r\n",
    "    print(\"December\")\r\n"
   ],
   "outputs": [],
   "metadata": {}
  },
  {
   "cell_type": "markdown",
   "source": [
    "Even Numbers - 1059"
   ],
   "metadata": {}
  },
  {
   "cell_type": "code",
   "execution_count": null,
   "source": [
    "for i in range(2, 101, 2):\r\n",
    "    print(i)"
   ],
   "outputs": [],
   "metadata": {}
  },
  {
   "cell_type": "markdown",
   "source": [
    "Positive Numbers - 1060"
   ],
   "metadata": {}
  },
  {
   "cell_type": "code",
   "execution_count": null,
   "source": [
    "c = 0\r\n",
    "for x in range(0, 6):\r\n",
    "    n = float(input())\r\n",
    "    if n > 0:\r\n",
    "        c += 1\r\n",
    "print(f\"{c} valores positivos\")\r\n"
   ],
   "outputs": [],
   "metadata": {}
  },
  {
   "cell_type": "markdown",
   "source": [
    "Interval 2 - 1072"
   ],
   "metadata": {}
  },
  {
   "cell_type": "code",
   "execution_count": null,
   "source": [
    "inn = 0\r\n",
    "out = 0\r\n",
    "n = int(input())\r\n",
    "for c in range(1, n+1):\r\n",
    "    x = int(input())\r\n",
    "    if 10 <= x <= 20:\r\n",
    "        inn += 1\r\n",
    "    else:\r\n",
    "        out += 1\r\n",
    "print(f\"{inn} in\")\r\n",
    "print(f\"{out} out\")\r\n"
   ],
   "outputs": [],
   "metadata": {}
  },
  {
   "cell_type": "markdown",
   "source": [
    "Remaining 2 - 1075"
   ],
   "metadata": {}
  },
  {
   "cell_type": "code",
   "execution_count": null,
   "source": [
    "n = int(input())\r\n",
    "for c in range(1, 10001):\r\n",
    "    if c % n == 2:\r\n",
    "        print(c)\r\n"
   ],
   "outputs": [],
   "metadata": {}
  },
  {
   "cell_type": "markdown",
   "source": [
    "Multiplication Table - 1078"
   ],
   "metadata": {}
  },
  {
   "cell_type": "code",
   "execution_count": null,
   "source": [
    "n = int(input())\r\n",
    "for c in range(1, 11):\r\n",
    "    print(f\"{c} x {n} = {c*n}\")\r\n"
   ],
   "outputs": [],
   "metadata": {}
  },
  {
   "cell_type": "markdown",
   "source": [
    "Highest and Position"
   ],
   "metadata": {}
  },
  {
   "cell_type": "code",
   "execution_count": null,
   "source": [
    "n = int(input())\r\n",
    "posicao = 0\r\n",
    "\r\n",
    "for i in range(1, 100):\r\n",
    "    a = int(input())\r\n",
    "    if a > x:\r\n",
    "        maior = a\r\n",
    "        posicao = i + 1\r\n",
    "        x = a\r\n",
    "\r\n",
    "print(maior)\r\n",
    "print(posicao)\r\n"
   ],
   "outputs": [],
   "metadata": {}
  },
  {
   "cell_type": "markdown",
   "source": [
    "Sum of Consecutive Odd Numbers II - 1099"
   ],
   "metadata": {}
  },
  {
   "cell_type": "code",
   "execution_count": null,
   "source": [
    "n = int(input())\r\n",
    "for c in range(1, n + 1):\r\n",
    "    sum = 0\r\n",
    "    x, y = input().split(\" \")\r\n",
    "    x, y = int(x), int(y)\r\n",
    "    if x > y:\r\n",
    "        for i in range(y + 1, x):\r\n",
    "            if i % 2 == 1:\r\n",
    "                sum += i\r\n",
    "        print(sum)\r\n",
    "    else:\r\n",
    "        for i in range(x + 1, y):\r\n",
    "            if i % 2 == 1:\r\n",
    "                sum += i\r\n",
    "        print(sum)\r\n"
   ],
   "outputs": [],
   "metadata": {}
  },
  {
   "cell_type": "markdown",
   "source": [
    "Ascending and Descending - 1113"
   ],
   "metadata": {}
  },
  {
   "cell_type": "code",
   "execution_count": null,
   "source": [
    "while True:\r\n",
    "    x, y = input().split(\" \")\r\n",
    "    x, y = int(x), int(y)\r\n",
    "    if x > y:\r\n",
    "        print(\"Decrescente\")\r\n",
    "    elif x < y:\r\n",
    "        print(\"Crescente\")\r\n",
    "    else:\r\n",
    "        break\r\n"
   ],
   "outputs": [],
   "metadata": {}
  },
  {
   "cell_type": "markdown",
   "source": [
    "Dividing X by Y - 1116"
   ],
   "metadata": {}
  },
  {
   "cell_type": "code",
   "execution_count": null,
   "source": [
    "n = int(input())\r\n",
    "for c in range(1, n + 1):\r\n",
    "    x, y = input().split(\" \")\r\n",
    "    x, y = float(x), float(y)\r\n",
    "    if y == 0:\r\n",
    "        print(\"divisao impossivel\")\r\n",
    "    else:\r\n",
    "        res = x / y\r\n",
    "        print(f\"{res:.1f}\")\r\n"
   ],
   "outputs": [],
   "metadata": {}
  },
  {
   "cell_type": "markdown",
   "source": [
    "Multiples of 13 - 1132"
   ],
   "metadata": {}
  },
  {
   "cell_type": "code",
   "execution_count": null,
   "source": [
    "x = int(input())\r\n",
    "y = int(input())\r\n",
    "sum = 0\r\n",
    "if x > y:\r\n",
    "    for c in range(y, x + 1):\r\n",
    "        if c % 13 != 0:\r\n",
    "            sum += c\r\n",
    "else:\r\n",
    "    for c in range(x, y + 1):\r\n",
    "        if c % 13 != 0:\r\n",
    "            sum += c\r\n",
    "print(sum)\r\n"
   ],
   "outputs": [],
   "metadata": {}
  },
  {
   "cell_type": "markdown",
   "source": [
    "Rest of a Division - 1133"
   ],
   "metadata": {}
  },
  {
   "cell_type": "code",
   "execution_count": null,
   "source": [
    "x = int(input())\r\n",
    "y = int(input())\r\n",
    "if y > x:\r\n",
    "    for c in range(x, y):\r\n",
    "        if c % 5 == 2 or c % 5 == 3:\r\n",
    "            print(c)\r\n",
    "else:\r\n",
    "    for c in range(y, x):\r\n",
    "        if c % 5 == 2 or c % 5 == 3:\r\n",
    "            print(c)\r\n"
   ],
   "outputs": [],
   "metadata": {}
  }
 ],
 "metadata": {
  "orig_nbformat": 4,
  "language_info": {
   "name": "python",
   "version": "3.9.0",
   "mimetype": "text/x-python",
   "codemirror_mode": {
    "name": "ipython",
    "version": 3
   },
   "pygments_lexer": "ipython3",
   "nbconvert_exporter": "python",
   "file_extension": ".py"
  },
  "kernelspec": {
   "name": "python3",
   "display_name": "Python 3.9.0 64-bit"
  },
  "interpreter": {
   "hash": "0b4cd1dba37433b1e50c010185bc348f8249c88fc584b8900b63ec6ab96afba5"
  }
 },
 "nbformat": 4,
 "nbformat_minor": 2
}