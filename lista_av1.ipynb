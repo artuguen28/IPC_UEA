{
 "cells": [
  {
   "cell_type": "markdown",
   "metadata": {},
   "source": [
    "#### Lista de exercícios URI - AV1"
   ]
  },
  {
   "cell_type": "markdown",
   "metadata": {},
   "source": [
    "Average 3 - 1040"
   ]
  },
  {
   "cell_type": "code",
   "execution_count": null,
   "metadata": {},
   "outputs": [],
   "source": [
    "n1, n2, n3, n4 = input().split(\" \")\n",
    "n1, n2, n3, n4 = float(n1), float(n2), float(n3), float(n4)\n",
    "\n",
    "avg = (n1*2 + n2*3 + n3*4 + n4) / 10\n",
    "\n",
    "print(f\"Media: {avg:.1f}\")\n",
    "\n",
    "if avg < 5.0:\n",
    "    print(\"Aluno reprovado.\")\n",
    "if avg >= 7.0:\n",
    "    print(\"Aluno aprovado.\")\n",
    "if 5.0 <= avg <= 6.9:\n",
    "    print(\"Aluno em exame.\")\n",
    "    n5 = float(input())\n",
    "    print(f\"Nota do exame: {n5:.1f}\")\n",
    "    new_avg = (n5 + avg) / 2\n",
    "    if new_avg >= 5:\n",
    "        print(\"Aluno aprovado.\")\n",
    "    else:\n",
    "        print(\"Aluno reprovado.\")\n",
    "    print(f\"Media final: {new_avg:.1f}\")\n",
    "\n",
    "\n"
   ]
  },
  {
   "cell_type": "markdown",
   "metadata": {},
   "source": [
    "Coordinates of a Point - 1041"
   ]
  },
  {
   "cell_type": "code",
   "execution_count": null,
   "metadata": {},
   "outputs": [],
   "source": [
    "x, y = input().split(\" \")\n",
    "x, y = float(x), float(y)\n",
    "\n",
    "if x > 0 and y > 0:\n",
    "    print(\"Q1\")\n",
    "if x < 0 and y > 0:\n",
    "    print(\"Q2\")\n",
    "if x < 0 and y < 0:\n",
    "    print(\"Q3\")\n",
    "if x > 0 and y < 0:\n",
    "    print(\"Q4\")\n",
    "if x == 0 and y != 0:\n",
    "    print(\"Eixo Y\")\n",
    "if x != 0 and y == 0:\n",
    "    print(\"Eixo X\")\n",
    "if x == y == 0:\n",
    "    print(\"Origem\")\n"
   ]
  },
  {
   "cell_type": "markdown",
   "metadata": {},
   "source": [
    "DDD - 1050"
   ]
  },
  {
   "cell_type": "code",
   "execution_count": null,
   "metadata": {},
   "outputs": [],
   "source": [
    "ddd = int(input())\n",
    "\n",
    "if ddd == 61:\n",
    "    print(\"Brasilia\")\n",
    "elif ddd == 71:\n",
    "    print(\"Salvador\")\n",
    "elif ddd == 11:\n",
    "    print(\"Sao Paulo\")\n",
    "elif ddd == 21:\n",
    "    print(\"Rio de Janeiro\")\n",
    "elif ddd == 32:\n",
    "    print(\"Juiz de Fora\")\n",
    "elif ddd == 19:\n",
    "    print(\"Campinas\")\n",
    "elif ddd == 27:\n",
    "    print(\"Vitoria\")\n",
    "elif ddd == 31:\n",
    "    print(\"Belo Horizonte\")\n",
    "else:\n",
    "    print(\"DDD nao cadastrado\")"
   ]
  },
  {
   "cell_type": "markdown",
   "metadata": {},
   "source": [
    "Month - 1052"
   ]
  },
  {
   "cell_type": "code",
   "execution_count": null,
   "metadata": {},
   "outputs": [],
   "source": [
    "n = int(input())\n",
    "\n",
    "if n == 1:\n",
    "    print(\"January\")\n",
    "if n == 2:\n",
    "    print(\"February\")\n",
    "if n == 3:\n",
    "    print(\"March\")\n",
    "if n == 4:\n",
    "    print(\"April\")\n",
    "if n == 5:\n",
    "    print(\"May\")\n",
    "if n == 6:\n",
    "    print(\"June\")\n",
    "if n == 7:\n",
    "    print(\"July\")\n",
    "if n == 8:\n",
    "    print(\"August\")\n",
    "if n == 9:\n",
    "    print(\"September\")\n",
    "if n == 10:\n",
    "    print(\"October\")\n",
    "if n == 11:\n",
    "    print(\"November\")\n",
    "if n == 12:\n",
    "    print(\"December\")\n"
   ]
  },
  {
   "cell_type": "markdown",
   "metadata": {},
   "source": [
    "Even Numbers - 1059"
   ]
  },
  {
   "cell_type": "code",
   "execution_count": null,
   "metadata": {},
   "outputs": [],
   "source": [
    "for i in range(2, 101, 2):\n",
    "    print(i)"
   ]
  },
  {
   "cell_type": "markdown",
   "metadata": {},
   "source": [
    "Positive Numbers - 1060"
   ]
  },
  {
   "cell_type": "code",
   "execution_count": null,
   "metadata": {},
   "outputs": [],
   "source": [
    "c = 0\n",
    "for x in range(0, 6):\n",
    "    n = float(input())\n",
    "    if n > 0:\n",
    "        c += 1\n",
    "print(f\"{c} valores positivos\")\n"
   ]
  },
  {
   "cell_type": "markdown",
   "metadata": {},
   "source": [
    "Interval 2 - 1072"
   ]
  },
  {
   "cell_type": "code",
   "execution_count": null,
   "metadata": {},
   "outputs": [],
   "source": [
    "inn = 0\n",
    "out = 0\n",
    "n = int(input())\n",
    "for c in range(1, n+1):\n",
    "    x = int(input())\n",
    "    if 10 <= x <= 20:\n",
    "        inn += 1\n",
    "    else:\n",
    "        out += 1\n",
    "print(f\"{inn} in\")\n",
    "print(f\"{out} out\")\n"
   ]
  },
  {
   "cell_type": "markdown",
   "metadata": {},
   "source": [
    "Remaining 2 - 1075"
   ]
  },
  {
   "cell_type": "code",
   "execution_count": null,
   "metadata": {},
   "outputs": [],
   "source": [
    "n = int(input())\n",
    "for c in range(1, 10001):\n",
    "    if c % n == 2:\n",
    "        print(c)\n"
   ]
  },
  {
   "cell_type": "markdown",
   "metadata": {},
   "source": [
    "Multiplication Table - 1078"
   ]
  },
  {
   "cell_type": "code",
   "execution_count": null,
   "metadata": {},
   "outputs": [],
   "source": [
    "n = int(input())\n",
    "for c in range(1, 11):\n",
    "    print(f\"{c} x {n} = {c*n}\")\n"
   ]
  },
  {
   "cell_type": "markdown",
   "metadata": {},
   "source": [
    "Highest and Position"
   ]
  },
  {
   "cell_type": "code",
   "execution_count": null,
   "metadata": {},
   "outputs": [],
   "source": [
    "n = int(input())\n",
    "posicao = 0\n",
    "\n",
    "for i in range(1, 100):\n",
    "    a = int(input())\n",
    "    if a > x:\n",
    "        maior = a\n",
    "        posicao = i + 1\n",
    "        x = a\n",
    "\n",
    "print(maior)\n",
    "print(posicao)\n"
   ]
  },
  {
   "cell_type": "markdown",
   "metadata": {},
   "source": [
    "Sum of Consecutive Odd Numbers II - 1099"
   ]
  },
  {
   "cell_type": "code",
   "execution_count": null,
   "metadata": {},
   "outputs": [],
   "source": [
    "n = int(input())\n",
    "for c in range(1, n + 1):\n",
    "    sum = 0\n",
    "    x, y = input().split(\" \")\n",
    "    x, y = int(x), int(y)\n",
    "    if x > y:\n",
    "        for i in range(y + 1, x):\n",
    "            if i % 2 == 1:\n",
    "                sum += i\n",
    "        print(sum)\n",
    "    else:\n",
    "        for i in range(x + 1, y):\n",
    "            if i % 2 == 1:\n",
    "                sum += i\n",
    "        print(sum)\n"
   ]
  },
  {
   "cell_type": "markdown",
   "metadata": {},
   "source": [
    "Ascending and Descending - 1113"
   ]
  },
  {
   "cell_type": "code",
   "execution_count": null,
   "metadata": {},
   "outputs": [],
   "source": [
    "while True:\n",
    "    x, y = input().split(\" \")\n",
    "    x, y = int(x), int(y)\n",
    "    if x > y:\n",
    "        print(\"Decrescente\")\n",
    "    elif x < y:\n",
    "        print(\"Crescente\")\n",
    "    else:\n",
    "        break\n"
   ]
  },
  {
   "cell_type": "markdown",
   "metadata": {},
   "source": [
    "Dividing X by Y - 1116"
   ]
  },
  {
   "cell_type": "code",
   "execution_count": null,
   "metadata": {},
   "outputs": [],
   "source": [
    "n = int(input())\n",
    "for c in range(1, n + 1):\n",
    "    x, y = input().split(\" \")\n",
    "    x, y = float(x), float(y)\n",
    "    if y == 0:\n",
    "        print(\"divisao impossivel\")\n",
    "    else:\n",
    "        res = x / y\n",
    "        print(f\"{res:.1f}\")\n"
   ]
  },
  {
   "cell_type": "markdown",
   "metadata": {},
   "source": [
    "Multiples of 13 - 1132"
   ]
  },
  {
   "cell_type": "code",
   "execution_count": null,
   "metadata": {},
   "outputs": [],
   "source": [
    "x = int(input())\n",
    "y = int(input())\n",
    "sum = 0\n",
    "if x > y:\n",
    "    for c in range(y, x + 1):\n",
    "        if c % 13 != 0:\n",
    "            sum += c\n",
    "else:\n",
    "    for c in range(x, y + 1):\n",
    "        if c % 13 != 0:\n",
    "            sum += c\n",
    "print(sum)\n"
   ]
  },
  {
   "cell_type": "markdown",
   "metadata": {},
   "source": [
    "Rest of a Division - 1133"
   ]
  },
  {
   "cell_type": "code",
   "execution_count": 2,
   "metadata": {},
   "outputs": [
    {
     "name": "stdout",
     "output_type": "stream",
     "text": [
      "12\n",
      "13\n",
      "17\n",
      "18\n"
     ]
    }
   ],
   "source": [
    "x = int(input())\n",
    "y = int(input())\n",
    "if y > x:\n",
    "    for c in range(x + 1, y):\n",
    "        if c % 5 == 2 or c % 5 == 3:\n",
    "            print(c)\n",
    "else:\n",
    "    for c in range(y + 1, x):\n",
    "        if c % 5 == 2 or c % 5 == 3:\n",
    "            print(c)\n"
   ]
  },
  {
   "cell_type": "markdown",
   "metadata": {},
   "source": [
    "S Sequence - 1155"
   ]
  },
  {
   "cell_type": "code",
   "execution_count": null,
   "metadata": {},
   "outputs": [],
   "source": [
    "s = 0\n",
    "for i in range(1, 101):\n",
    "    s += 1 / i\n",
    "print(f\"{s:.2f}\")"
   ]
  },
  {
   "cell_type": "markdown",
   "metadata": {},
   "source": [
    "Perfect Number - 1164"
   ]
  },
  {
   "cell_type": "code",
   "execution_count": 9,
   "metadata": {},
   "outputs": [
    {
     "name": "stdout",
     "output_type": "stream",
     "text": [
      "6 eh perfeito\n",
      "5 nao eh perfeito\n",
      "28 eh perfeito\n"
     ]
    }
   ],
   "source": [
    "n = int(input())\n",
    "for c in range(1, n + 1):\n",
    "    soma = 0 \n",
    "    x = int(input())\n",
    "    for d in range(1, x):\n",
    "        if x % d == 0:\n",
    "            soma += d\n",
    "    if soma == x:\n",
    "        print(f\"{x} eh perfeito\")\n",
    "    else:\n",
    "        print(f\"{x} nao eh perfeito\")\n"
   ]
  }
 ],
 "metadata": {
  "interpreter": {
   "hash": "0b4cd1dba37433b1e50c010185bc348f8249c88fc584b8900b63ec6ab96afba5"
  },
  "kernelspec": {
   "display_name": "Python 3.9.0 64-bit",
   "name": "python3"
  },
  "language_info": {
   "codemirror_mode": {
    "name": "ipython",
    "version": 3
   },
   "file_extension": ".py",
   "mimetype": "text/x-python",
   "name": "python",
   "nbconvert_exporter": "python",
   "pygments_lexer": "ipython3",
   "version": "3.9.0"
  },
  "orig_nbformat": 4
 },
 "nbformat": 4,
 "nbformat_minor": 2
}
